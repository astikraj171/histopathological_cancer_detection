{
 "cells": [
  {
   "cell_type": "markdown",
   "id": "0c26d615-7a00-4cfe-85d0-103c0ba441cb",
   "metadata": {},
   "source": [
    "## Importing all the necessary Libraries"
   ]
  },
  {
   "cell_type": "code",
   "execution_count": null,
   "id": "59c7f655-9d36-4c6c-99d3-0927c79c3210",
   "metadata": {},
   "outputs": [],
   "source": [
    "import cv2\n",
    "import matplotlib.pyplot as plt\n",
    "import os\n",
    "import pandas as pd\n",
    "import shutil\n",
    "import os\n",
    "import numpy as np\n",
    "from tensorflow.keras.preprocessing.image import load_img, img_to_array\n",
    "from sklearn.model_selection import train_test_split\n",
    "from tensorflow.keras.preprocessing.image import ImageDataGenerator\n",
    "import tensorflow as tf\n",
    "from tensorflow.keras.applications import EfficientNetB3\n",
    "from tensorflow.keras.models import Model\n",
    "from tensorflow.keras.layers import Dense, GlobalAveragePooling2D, Dropout, BatchNormalization\n",
    "from tensorflow.keras.callbacks import ReduceLROnPlateau, EarlyStopping\n",
    "from tensorflow.keras.regularizers import l2\n",
    "from sklearn.metrics import precision_score\n",
    "from sklearn.metrics import precision_recall_curve"
   ]
  },
  {
   "cell_type": "code",
   "execution_count": null,
   "id": "b80b7f59-f23b-46bc-b9a4-f931b5144581",
   "metadata": {},
   "outputs": [],
   "source": [
    "labels_df = pd.read_csv('C:/Users/swapn/OneDrive/Desktop/7th Sem/Aira_project/histopathologic-cancer-detection/train_labels.csv')"
   ]
  },
  {
   "cell_type": "code",
   "execution_count": null,
   "id": "e45016cc-4a04-48c1-bdea-f1c7a23dc52b",
   "metadata": {},
   "outputs": [],
   "source": [
    "image_dir = 'C:/Users/swapn/OneDrive/Desktop/7th Sem/Aira_project/histopathologic-cancer-detection/train/'\n",
    "images = []\n",
    "labels = []"
   ]
  },
  {
   "cell_type": "code",
   "execution_count": null,
   "id": "6761b17d-e2e8-4665-9709-09ec496039fc",
   "metadata": {
    "scrolled": true
   },
   "outputs": [],
   "source": [
    "for index, row in labels_df.iterrows():\n",
    "\n",
    "    image_id = row['id']  \n",
    "    img_path = os.path.join(image_dir, image_id + '.tif')  \n",
    "    image = cv2.imread(img_path, cv2.IMREAD_UNCHANGED)  \n",
    "     \n",
    "    image = cv2.cvtColor(image, cv2.COLOR_BGR2RGB) \n",
    "    images.append(image)\n",
    "    labels.append(row['label'])  "
   ]
  },
  {
   "cell_type": "markdown",
   "id": "b8757e48-f991-4148-96df-9857ad82d649",
   "metadata": {},
   "source": [
    "### Displaing some images from the Dataset"
   ]
  },
  {
   "cell_type": "code",
   "execution_count": null,
   "id": "d9cadbf0-b4b3-4a5f-99a5-6788bd96c5a3",
   "metadata": {
    "scrolled": true
   },
   "outputs": [],
   "source": [
    "for i in range(5):  \n",
    "    plt.imshow(images[i])\n",
    "    plt.title(f'Label: {labels_df[\"label\"].iloc[i]}')\n",
    "    plt.axis('off')\n",
    "    plt.show()"
   ]
  },
  {
   "cell_type": "code",
   "execution_count": null,
   "id": "d4e8e640-e5ba-44fd-a0e7-8aa278518955",
   "metadata": {},
   "outputs": [],
   "source": [
    "print(f'Image shape: {images[0].shape}')"
   ]
  },
  {
   "cell_type": "code",
   "execution_count": null,
   "id": "e95a5ff9-e7d2-434f-aeae-fdf33bc0051e",
   "metadata": {},
   "outputs": [],
   "source": [
    "label_counts = labels_df['label'].value_counts()\n",
    "print(label_counts)"
   ]
  },
  {
   "cell_type": "code",
   "execution_count": null,
   "id": "4488e736-eb46-470f-99b0-1f9a43f29fe7",
   "metadata": {},
   "outputs": [],
   "source": [
    "label_counts.plot(kind='bar')\n",
    "plt.title('Label Distribution')\n",
    "plt.xlabel('Classes')\n",
    "plt.ylabel('Number of Samples')\n",
    "plt.show()"
   ]
  },
  {
   "cell_type": "code",
   "execution_count": null,
   "id": "d227134f-11a4-4dd9-b675-3959402e899c",
   "metadata": {},
   "outputs": [],
   "source": [
    "print(f'Total images: {len(images)}')\n",
    "print(f'Total classes: {labels_df[\"label\"].nunique()}')"
   ]
  },
  {
   "cell_type": "code",
   "execution_count": null,
   "id": "c15c3ec6-fe50-416d-9bf4-d730920674b6",
   "metadata": {},
   "outputs": [],
   "source": [
    "labels_df.head()"
   ]
  },
  {
   "cell_type": "code",
   "execution_count": null,
   "id": "f7cb0324-2d77-4f59-b95f-72c1e9ca47ef",
   "metadata": {},
   "outputs": [],
   "source": [
    "labels_df['image_path'] = labels_df['id'].apply(lambda x: os.path.join(image_dir, f\"{x}.tif\"))"
   ]
  },
  {
   "cell_type": "code",
   "execution_count": null,
   "id": "63596a8f-9c92-4d7b-b884-a086424f99c2",
   "metadata": {},
   "outputs": [],
   "source": [
    "labels_df.head()"
   ]
  },
  {
   "cell_type": "markdown",
   "id": "9fbeb8eb-12ce-444a-84c4-5be33353fbff",
   "metadata": {},
   "source": [
    "### Train-Validation Split"
   ]
  },
  {
   "cell_type": "code",
   "execution_count": null,
   "id": "cf65df62-60b2-40fa-b885-bc7d52b3e14c",
   "metadata": {},
   "outputs": [],
   "source": [
    "train_df, val_df = train_test_split(labels_df, test_size=0.2, random_state=42, stratify=labels_df['label'])"
   ]
  },
  {
   "cell_type": "code",
   "execution_count": null,
   "id": "73a4f3a9-b64e-43bb-aa60-04b9528923a7",
   "metadata": {},
   "outputs": [],
   "source": [
    "print(f\"Training set size: {len(train_df)}\")\n",
    "print(f\"Validation set size: {len(val_df)}\")"
   ]
  },
  {
   "cell_type": "code",
   "execution_count": null,
   "id": "fa530154-13ca-44d4-b5b8-94ea3d91a8ea",
   "metadata": {},
   "outputs": [],
   "source": [
    "val_images_dir = 'C:/Users/swapn/OneDrive/Desktop/7th Sem/Aira_project/val_images'\n",
    "os.makedirs(val_images_dir, exist_ok=True)"
   ]
  },
  {
   "cell_type": "code",
   "execution_count": null,
   "id": "09266fa9-de1e-48ce-af8e-d1d46be0f58b",
   "metadata": {},
   "outputs": [],
   "source": [
    "def move_images(df, target_dir):\n",
    "    for _, row in df.iterrows():\n",
    "        class_dir = os.path.join(target_dir, f'class_{row[\"label\"]}')\n",
    "        os.makedirs(class_dir, exist_ok=True)\n",
    "        source_path = row['image_path']\n",
    "        destination_path = os.path.join(class_dir, f\"{row['id']}.tif\")\n",
    "        shutil.copy(source_path, destination_path)\n"
   ]
  },
  {
   "cell_type": "code",
   "execution_count": null,
   "id": "0a26486c-e0a2-46fd-9734-6ef3aa4a8f55",
   "metadata": {
    "scrolled": true
   },
   "outputs": [],
   "source": [
    "move_images(val_df, val_images_dir)"
   ]
  },
  {
   "cell_type": "code",
   "execution_count": null,
   "id": "5daafa9b-c37d-4500-bd0d-e6ffe57f0b4c",
   "metadata": {},
   "outputs": [],
   "source": [
    "train_images_dir = 'C:/Users/swapn/OneDrive/Desktop/7th Sem/Aira_project/train_images'\n",
    "os.makedirs(train_images_dir, exist_ok=True)"
   ]
  },
  {
   "cell_type": "code",
   "execution_count": null,
   "id": "14249817-bab6-4ade-a3fb-61f89c3f628c",
   "metadata": {
    "scrolled": true
   },
   "outputs": [],
   "source": [
    "move_images(train_df, train_images_dir)\n",
    "print(\"Images moved successfully.\")"
   ]
  },
  {
   "cell_type": "code",
   "execution_count": null,
   "id": "336b894e-c426-4e3f-8f56-a081090a3164",
   "metadata": {},
   "outputs": [],
   "source": [
    "image_files = os.listdir(image_dir)"
   ]
  },
  {
   "cell_type": "code",
   "execution_count": null,
   "id": "9d2d9cb4-6cd0-46d2-9a58-8d8cd4ada491",
   "metadata": {},
   "outputs": [],
   "source": [
    "labels = [0 if 'class_0' in file else 1 for file in image_files] \n",
    "data = pd.DataFrame({'filename': image_files, 'label': labels})"
   ]
  },
  {
   "cell_type": "markdown",
   "id": "d815e0b2-cc57-44da-b03b-0be4c7bb6af8",
   "metadata": {},
   "source": [
    "### Data Agmentation"
   ]
  },
  {
   "cell_type": "code",
   "execution_count": null,
   "id": "e750dbca-ce20-4bc0-8521-16df22047dc3",
   "metadata": {},
   "outputs": [],
   "source": [
    "train_datagen = ImageDataGenerator(\n",
    "    rescale=1./255,\n",
    "    rotation_range=30,  # Increase rotation\n",
    "    width_shift_range=0.3,  # Increase shift\n",
    "    height_shift_range=0.3,  # Increase shift\n",
    "    shear_range=0.3,  # Increase shear\n",
    "    zoom_range=0.3,  # Increase zoom\n",
    "    horizontal_flip=True,\n",
    "    brightness_range=[0.8, 1.2],  # Change brightness\n",
    "    fill_mode='nearest'\n",
    ")\n"
   ]
  },
  {
   "cell_type": "code",
   "execution_count": null,
   "id": "48718275-00ef-4a52-afb2-0639d490a4dd",
   "metadata": {},
   "outputs": [],
   "source": [
    "val_datagen = ImageDataGenerator(\n",
    "    rescale=1./255  # Normalize pixel values to [0, 1]\n",
    ")"
   ]
  },
  {
   "cell_type": "code",
   "execution_count": null,
   "id": "4140525e-827c-47f6-a639-522e91d6ad1f",
   "metadata": {},
   "outputs": [],
   "source": [
    "train_generator = train_datagen.flow_from_directory(\n",
    "    'C:/Users/swapn/OneDrive/Desktop/7th Sem/Aira_project/train_images',  # Path to training data directory\n",
    "    target_size=(96, 96),  # Resize images to 96x96\n",
    "    batch_size=32,\n",
    "    class_mode='binary'  # Use 'categorical' for multi-class\n",
    ")"
   ]
  },
  {
   "cell_type": "code",
   "execution_count": null,
   "id": "db004ea6-e865-4a87-add8-d16bde7c7989",
   "metadata": {},
   "outputs": [],
   "source": [
    "val_generator = val_datagen.flow_from_directory(\n",
    "    'C:/Users/swapn/OneDrive/Desktop/7th Sem/Aira_project/val_images',  # Path to validation data directory\n",
    "    target_size=(96, 96),  # Resize images to 96x96\n",
    "    batch_size=32,\n",
    "    class_mode='binary'  # Use 'categorical' for multi-class\n",
    ")"
   ]
  },
  {
   "cell_type": "markdown",
   "id": "df7d3ed6-ff9b-4e98-813c-419a25b9c3a7",
   "metadata": {},
   "source": [
    "### Defining the Base Model"
   ]
  },
  {
   "cell_type": "code",
   "execution_count": null,
   "id": "ac1c0169-1179-4fcb-a5a4-0ac939dfaa15",
   "metadata": {},
   "outputs": [],
   "source": [
    "base_model = EfficientNetB3(weights='imagenet', include_top=False, input_shape=(96, 96, 3))"
   ]
  },
  {
   "cell_type": "code",
   "execution_count": null,
   "id": "8076bf5c-f272-4736-9261-81ac9cefb4f1",
   "metadata": {},
   "outputs": [],
   "source": [
    "base_model.trainable = False"
   ]
  },
  {
   "cell_type": "code",
   "execution_count": null,
   "id": "c9212113-1091-439e-9b7c-a356015105b8",
   "metadata": {},
   "outputs": [],
   "source": [
    "x = base_model.output\n",
    "x = GlobalAveragePooling2D()(x)  # Global Average Pooling\n",
    "x = Dense(512, activation='relu')(x)  # Fully connected layer\n",
    "x = Dropout(0.5)(x)  # Dropout for regularization\n",
    "predictions = Dense(1, activation='sigmoid')(x)"
   ]
  },
  {
   "cell_type": "code",
   "execution_count": null,
   "id": "cdf3b9d2-5d2c-4197-964e-0a6693fe9a41",
   "metadata": {},
   "outputs": [],
   "source": [
    "model = Model(inputs=base_model.input, outputs=predictions)"
   ]
  },
  {
   "cell_type": "code",
   "execution_count": null,
   "id": "678dfe27-515e-411d-9923-96bf36a46a35",
   "metadata": {},
   "outputs": [],
   "source": [
    "model.compile(optimizer='adam', loss='binary_crossentropy', metrics=['accuracy'])"
   ]
  },
  {
   "cell_type": "code",
   "execution_count": null,
   "id": "4208175f-ddc0-431c-aeab-0f40bee4a6b2",
   "metadata": {
    "scrolled": true
   },
   "outputs": [],
   "source": [
    "model.summary()"
   ]
  },
  {
   "cell_type": "code",
   "execution_count": null,
   "id": "b1af5e80-bee7-426b-a1c2-e5409004186f",
   "metadata": {},
   "outputs": [],
   "source": [
    "num_epochs = 20"
   ]
  },
  {
   "cell_type": "markdown",
   "id": "9da2b1d3-46f7-400a-b20f-d54730fb35bc",
   "metadata": {},
   "source": [
    "### Training the model"
   ]
  },
  {
   "cell_type": "code",
   "execution_count": null,
   "id": "d545ee5a-8772-4bd3-9c43-3276f4c50d2b",
   "metadata": {
    "scrolled": true
   },
   "outputs": [],
   "source": [
    "history = model.fit(\n",
    "    train_generator,\n",
    "    validation_data=val_generator,\n",
    "    epochs=num_epochs,\n",
    "    steps_per_epoch=len(train_generator),\n",
    "    validation_steps=len(val_generator),\n",
    "    verbose=1  # You can set this to 2 for less verbose output\n",
    ")"
   ]
  },
  {
   "cell_type": "markdown",
   "id": "511f666f-2451-43bc-97d2-d3d17ae67dde",
   "metadata": {},
   "source": [
    "#### Loss plot"
   ]
  },
  {
   "cell_type": "code",
   "execution_count": null,
   "id": "60913edf-c1ce-4eaa-991c-b7d45f5c7046",
   "metadata": {
    "scrolled": true
   },
   "outputs": [],
   "source": [
    "plt.subplot(1, 2, 1)\n",
    "plt.plot(history.history['loss'], label='Train Loss')\n",
    "plt.plot(history.history['val_loss'], label='Validation Loss')\n",
    "plt.title('Model Loss')\n",
    "plt.ylabel('Loss')\n",
    "plt.xlabel('Epoch')\n",
    "plt.legend(loc='upper right')"
   ]
  },
  {
   "cell_type": "markdown",
   "id": "656b7474-57e2-444c-bf5d-d6c2044c0550",
   "metadata": {},
   "source": [
    "#### Accuracy plot"
   ]
  },
  {
   "cell_type": "code",
   "execution_count": null,
   "id": "65c58cc3-d259-4da2-9941-d3272710a7b0",
   "metadata": {},
   "outputs": [],
   "source": [
    "plt.subplot(1, 2, 2)\n",
    "plt.plot(history.history['accuracy'], label='Train Accuracy')\n",
    "plt.plot(history.history['val_accuracy'], label='Validation Accuracy')\n",
    "plt.title('Model Accuracy')\n",
    "plt.ylabel('Accuracy')\n",
    "plt.xlabel('Epoch')\n",
    "plt.legend(loc='lower right')\n",
    "\n",
    "plt.tight_layout()\n",
    "plt.show()"
   ]
  },
  {
   "cell_type": "markdown",
   "id": "eb42edab-e1bc-49c9-bdcd-9ee7d4f006f2",
   "metadata": {},
   "source": [
    "### FINE-TUNING"
   ]
  },
  {
   "cell_type": "code",
   "execution_count": null,
   "id": "0acabe46-93e3-4ac1-b889-3543493299ac",
   "metadata": {
    "scrolled": true
   },
   "outputs": [],
   "source": [
    "reduce_lr = ReduceLROnPlateau(monitor='val_accuracy', factor=0.5, patience=3, min_lr=1e-6)"
   ]
  },
  {
   "cell_type": "code",
   "execution_count": null,
   "id": "d94decbe-b2ca-4d94-9e95-6fd910b7942d",
   "metadata": {},
   "outputs": [],
   "source": [
    "x = model.layers[-3].output  # Access the layer just before Dropout\n",
    "x = Dropout(0.4)(x)\n",
    "x = BatchNormalization()(x)  # Add Batch Normalization\n",
    "new_predictions = Dense(1, activation='sigmoid')(x)"
   ]
  },
  {
   "cell_type": "code",
   "execution_count": null,
   "id": "3e796bc6-e17b-4d36-bd2f-1a5479f6aae8",
   "metadata": {},
   "outputs": [],
   "source": [
    "for layer in base_model.layers[:150]:  \n",
    "    layer.trainable = False"
   ]
  },
  {
   "cell_type": "code",
   "execution_count": null,
   "id": "234fa83e-49ab-4ac1-aaf3-8a286bd76667",
   "metadata": {},
   "outputs": [],
   "source": [
    "new_model = Model(inputs=model.input, outputs=new_predictions)"
   ]
  },
  {
   "cell_type": "code",
   "execution_count": null,
   "id": "6ed669fa-bfe5-45f9-b452-18b17b9b4064",
   "metadata": {},
   "outputs": [],
   "source": [
    "new_model.compile(optimizer='adam', loss='binary_crossentropy', metrics=['accuracy'])"
   ]
  },
  {
   "cell_type": "code",
   "execution_count": null,
   "id": "e78a23d2-fa6b-430a-b93d-740f9b757b2b",
   "metadata": {},
   "outputs": [],
   "source": [
    "early_stopping = EarlyStopping(monitor='val_loss', patience=5, restore_best_weights=True)"
   ]
  },
  {
   "cell_type": "markdown",
   "id": "77bd32e8-08a5-4f8d-a466-365059cbbe2b",
   "metadata": {},
   "source": [
    "### Training on Fine-Tuned Model"
   ]
  },
  {
   "cell_type": "code",
   "execution_count": null,
   "id": "96d691f4-bc92-4a6b-a82b-9e5cccaf1b0d",
   "metadata": {},
   "outputs": [],
   "source": [
    "history = new_model.fit(\n",
    "    train_generator,\n",
    "    validation_data=val_generator,\n",
    "    epochs=20,\n",
    "    steps_per_epoch=len(train_generator),\n",
    "    validation_steps=len(val_generator),\n",
    "    callbacks=[early_stopping,reduce_lr],\n",
    "    verbose=1\n",
    ")"
   ]
  },
  {
   "cell_type": "markdown",
   "id": "807d5c5a-3a7c-4b13-a8c5-516d1975bf7c",
   "metadata": {},
   "source": [
    "### Checking for Losses, Accuracy, Precision and Recall"
   ]
  },
  {
   "cell_type": "code",
   "execution_count": null,
   "id": "010e90da-123c-4e09-a84a-2aac82288861",
   "metadata": {},
   "outputs": [],
   "source": [
    "validation_loss, validation_accuracy = model.evaluate(val_generator, verbose=0)"
   ]
  },
  {
   "cell_type": "code",
   "execution_count": null,
   "id": "9b767129-4146-45c3-8563-3f85d3318205",
   "metadata": {},
   "outputs": [],
   "source": [
    "print(f'Validation Accuracy: {validation_accuracy:.4f}')"
   ]
  },
  {
   "cell_type": "code",
   "execution_count": null,
   "id": "86984428-cf2c-4528-bff3-f78d32fc1bc6",
   "metadata": {},
   "outputs": [],
   "source": [
    "validation_predictions = model.predict(val_generator)"
   ]
  },
  {
   "cell_type": "code",
   "execution_count": null,
   "id": "2e80bc70-45c6-4bec-afff-34356018e291",
   "metadata": {},
   "outputs": [],
   "source": [
    "threshold = 0.4\n",
    "predicted_classes = (validation_predictions > threshold).astype(int)"
   ]
  },
  {
   "cell_type": "code",
   "execution_count": null,
   "id": "5528d6c5-2cd2-4569-baa9-97240e510155",
   "metadata": {},
   "outputs": [],
   "source": [
    "true_classes = validation_generator.classes"
   ]
  },
  {
   "cell_type": "code",
   "execution_count": null,
   "id": "21164b10-89eb-412f-b60f-1616de0e6f95",
   "metadata": {},
   "outputs": [],
   "source": [
    "precision = precision_score(true_classes, predicted_classes)\n",
    "recall = recall_score(true_classes, predicted_classes)"
   ]
  },
  {
   "cell_type": "code",
   "execution_count": null,
   "id": "4f8a17d8-4bd7-46e1-8cea-1b6fbe8e7c05",
   "metadata": {},
   "outputs": [],
   "source": [
    "print(f'Validation Precision: {precision:.4f}')\n",
    "print(f'Validation Recall: {recall:.4f}')"
   ]
  },
  {
   "cell_type": "markdown",
   "id": "f2179f6a-582a-426c-ae1e-3ce5fe88a722",
   "metadata": {},
   "source": [
    "### Precision, Recall Plot"
   ]
  },
  {
   "cell_type": "code",
   "execution_count": null,
   "id": "af9d3c19-5150-49f5-9ac1-f3522ef4a307",
   "metadata": {},
   "outputs": [],
   "source": [
    "precisions, recalls, thresholds = precision_recall_curve(true_classes, validation_predictions)"
   ]
  },
  {
   "cell_type": "code",
   "execution_count": null,
   "id": "12713335-6576-4ff5-b2aa-a6d75f16544d",
   "metadata": {},
   "outputs": [],
   "source": [
    "plt.plot(recalls, precisions, marker='.')\n",
    "plt.xlabel('Recall')\n",
    "plt.ylabel('Precision')\n",
    "plt.title('Precision-Recall Curve')\n",
    "plt.show()"
   ]
  },
  {
   "cell_type": "code",
   "execution_count": null,
   "id": "6da9560c-ec26-43f2-b329-e7861ce38aed",
   "metadata": {},
   "outputs": [],
   "source": []
  },
  {
   "cell_type": "code",
   "execution_count": null,
   "id": "66b8bbae-f1cb-4ccc-a2bd-cdd184690112",
   "metadata": {},
   "outputs": [],
   "source": []
  },
  {
   "cell_type": "code",
   "execution_count": null,
   "id": "913bfeb0-4600-433f-814d-fbb5073938b0",
   "metadata": {},
   "outputs": [],
   "source": []
  }
 ],
 "metadata": {
  "kernelspec": {
   "display_name": "Python 3",
   "language": "python",
   "name": "python3"
  },
  "language_info": {
   "codemirror_mode": {
    "name": "ipython",
    "version": 3
   },
   "file_extension": ".py",
   "mimetype": "text/x-python",
   "name": "python",
   "nbconvert_exporter": "python",
   "pygments_lexer": "ipython3",
   "version": "3.9.7"
  }
 },
 "nbformat": 4,
 "nbformat_minor": 5
}
